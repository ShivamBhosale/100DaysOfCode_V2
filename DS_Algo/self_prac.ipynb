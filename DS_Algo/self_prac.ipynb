{
 "metadata": {
  "orig_nbformat": 4,
  "kernelspec": {
   "name": "tensorflow",
   "display_name": "Python 3.7 (tensorflow)",
   "language": "python"
  }
 },
 "nbformat": 4,
 "nbformat_minor": 2,
 "cells": [
  {
   "cell_type": "code",
   "execution_count": 23,
   "metadata": {},
   "outputs": [],
   "source": [
    "\"\"\" Bubble Sort \"\"\"\n",
    "def Bubble_sort(arr):\n",
    "    for n in range(len(arr)-1,0,-1):\n",
    "        for k in range(n):\n",
    "            if arr[k] > arr[k+1]:\n",
    "                temp = arr[k]\n",
    "                arr[k] = arr[k+1]\n",
    "                arr[k+1] = temp"
   ]
  },
  {
   "cell_type": "code",
   "execution_count": 24,
   "metadata": {},
   "outputs": [],
   "source": [
    "arr = [3,2,13,4,6,5,7,8,1,20]\n",
    "Bubble_sort(arr)"
   ]
  },
  {
   "cell_type": "code",
   "execution_count": 25,
   "metadata": {},
   "outputs": [
    {
     "output_type": "execute_result",
     "data": {
      "text/plain": [
       "[1, 2, 3, 4, 5, 6, 7, 8, 13, 20]"
      ]
     },
     "metadata": {},
     "execution_count": 25
    }
   ],
   "source": [
    "arr"
   ]
  },
  {
   "source": [
    "<hr>"
   ],
   "cell_type": "markdown",
   "metadata": {}
  },
  {
   "cell_type": "code",
   "execution_count": 58,
   "metadata": {},
   "outputs": [],
   "source": [
    "\"\"\" Binary Search \"\"\"\n",
    "def Binary_search(arr,ele):\n",
    "    f=0\n",
    "    l=len(arr)-1\n",
    "    found = 0\n",
    "    \n",
    "    while f <= l and not found:\n",
    "        mid = int((f+l)/2)\n",
    "        if arr[mid] == ele:\n",
    "            found = 1\n",
    "            \n",
    "        elif ele < arr[mid]:\n",
    "            l = mid - 1\n",
    "        else:\n",
    "            f=mid+1\n",
    "    if found == 0:\n",
    "        return \"Element is absent in the array\"\n",
    "    else:\n",
    "        return \"Element found at array index\",mid\n"
   ]
  },
  {
   "cell_type": "code",
   "execution_count": 66,
   "metadata": {},
   "outputs": [],
   "source": [
    "arr = [1,2,3,4,5]\n",
    "ele = 6"
   ]
  },
  {
   "cell_type": "code",
   "execution_count": 67,
   "metadata": {},
   "outputs": [
    {
     "output_type": "execute_result",
     "data": {
      "text/plain": [
       "'Element is absent in the array'"
      ]
     },
     "metadata": {},
     "execution_count": 67
    }
   ],
   "source": [
    "Binary_search(arr,ele)"
   ]
  }
 ]
}