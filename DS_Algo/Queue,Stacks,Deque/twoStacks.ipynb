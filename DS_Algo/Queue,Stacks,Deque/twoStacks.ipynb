{
 "metadata": {
  "orig_nbformat": 4,
  "kernelspec": {
   "name": "tensorflow",
   "display_name": "Python 3.7 (tensorflow)",
   "language": "python"
  }
 },
 "nbformat": 4,
 "nbformat_minor": 2,
 "cells": [
  {
   "source": [
    "# Implement a Queue - Using Two Stacks"
   ],
   "cell_type": "markdown",
   "metadata": {}
  },
  {
   "source": [
    "Given the Stack class below, implement a Queue class using two stacks! Note, this is a \"classic\" interview problem. Use a Python list data structure as your Stack."
   ],
   "cell_type": "markdown",
   "metadata": {}
  },
  {
   "cell_type": "code",
   "execution_count": 2,
   "metadata": {},
   "outputs": [],
   "source": [
    "stack1 = []\n",
    "stack2 = []"
   ]
  },
  {
   "source": [
    "The key insight is that a stack reverses order (while a queue doesn't). A sequence of elements pushed on a stack comes back in reversed order when popped. Consequently, two stacks chained together will return elements in the same order, since reversed order reversed again is original order.\n",
    "\n",
    "We use an in-stack that we fill when an element is enqueued and the dequeue operation takes elements from an out-stack. If the out-stack is empty we pop all elements from the in-stack and push them onto the out-stack"
   ],
   "cell_type": "markdown",
   "metadata": {}
  },
  {
   "cell_type": "code",
   "execution_count": 4,
   "metadata": {},
   "outputs": [],
   "source": [
    "class Queue2Stacks(object):\n",
    "\n",
    "    def __init__(self):\n",
    "        self.instack = []\n",
    "        self.outstack = []\n",
    "    \n",
    "    def enqueue(self,item):\n",
    "        self.instack.append(item)\n",
    "\n",
    "    def dequeue(self):\n",
    "        if not self.outstack:\n",
    "            while self.instack:\n",
    "                self.outstack.append(self.instack.pop())\n",
    "        return self.outstack.pop()\n"
   ]
  },
  {
   "cell_type": "code",
   "execution_count": 8,
   "metadata": {},
   "outputs": [
    {
     "output_type": "stream",
     "name": "stdout",
     "text": [
      "0\n1\n2\n3\n4\n"
     ]
    }
   ],
   "source": [
    "\"\"\"Test the above cell\"\"\"\n",
    "q = Queue2Stacks()\n",
    "\n",
    "for i in range(5):\n",
    "    q.enqueue(i)\n",
    "    \n",
    "for i in range(5):\n",
    "    print (q.dequeue())"
   ]
  }
 ]
}