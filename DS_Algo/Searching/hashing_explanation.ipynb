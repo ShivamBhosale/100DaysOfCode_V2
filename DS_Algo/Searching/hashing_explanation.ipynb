{
 "metadata": {
  "orig_nbformat": 4,
  "kernelspec": {
   "name": "tensorflow",
   "display_name": "Python 3.7 (tensorflow)",
   "language": "python"
  }
 },
 "nbformat": 4,
 "nbformat_minor": 2,
 "cells": [
  {
   "source": [
    "# Hash Tables\n",
    "<li> A hash table is a collection of items which are stored in such a way as to make it easy to find them later. \n",
    "<li> Each position of the hash table, slots, can hold an item and is named by an integer value starting at 0. \n",
    "<li> For example, we will have a slot named 0, a slot named 1, a slot named 2, and so on.\n",
    "<li> Initially, the hash table contains no items so every slot is empty. \n"
   ],
   "cell_type": "markdown",
   "metadata": {}
  },
  {
   "source": [
    "## Hash Functions \n",
    "<li> Reminder Method\n",
    "<li> Folding Method\n",
    "<li> Mid Square Method"
   ],
   "cell_type": "markdown",
   "metadata": {}
  },
  {
   "source": [
    "## Reminder Method\n",
    "<li> When presented with an item, the hash function is the item divided by the table size, this is then its slot number.\n",
    "<li> Assume that we have the set of integer items 54, 26, 93, 17, 77, and 31. \n",
    "<li> We’ve preassigned an empty hash table of m=11\n",
    "<li> Our remainder hash function then is: h(item)=item%11.\n",
    "\n"
   ],
   "cell_type": "markdown",
   "metadata": {}
  },
  {
   "source": [
    "<img src=\"reminder.png\" alt=\"reminder\" style=\"width: 500px;\"/>"
   ],
   "cell_type": "markdown",
   "metadata": {}
  },
  {
   "source": [
    "<li> You might be thinking, what if you have two items that would      result in the same location?\n",
    "<li> For example 44%11 and 77%11 are the same.\n",
    "<li> This is known as a collision (also known as a clash). \n",
    "<li> We’ll learn how to deal with them later on.\n",
    "<li> Let’s learn about hash functions in general!"
   ],
   "cell_type": "markdown",
   "metadata": {}
  },
  {
   "source": [
    "<li> A hash function that maps each item into a unique slot is referred to as a perfect hash function.\n",
    "<li> Our goal is to create a hash function that minimizes the number of collisions, is easy to compute, and evenly distributes the items in the hash table. \n",
    "<li> Let’s discuss a few techniques for this!"
   ],
   "cell_type": "markdown",
   "metadata": {}
  },
  {
   "source": [
    "## Folding Method\n",
    "<li> The folding method for constructing hash functions begins by dividing the item into equal-size pieces (the last piece may not be of equal size). \n",
    "<li> These pieces are then added together to give the resulting hash value.\n",
    "<li> If our item was the phone number 436-555-4601\n",
    "<li> We would take the digits and divide them into groups of 2 (43,65,55,46,01). \n",
    "<li> After the addition, 43+65+55+46+01, we get 210. \n",
    "<li> If we assume our hash table has 11 slots, then we need to perform the extra step of dividing by 11 and keeping the remainder. \n",
    "<li> 210 % 11 is 1, so the phone number 436-555-4601 hashes to slot 1."
   ],
   "cell_type": "markdown",
   "metadata": {}
  },
  {
   "source": [
    "## Mid-Square Method\n",
    "\n",
    "<li> For the mid-square method we first square the item, and then extract some portion of the resulting digits. \n",
    "<li> For example, if the item were 44, we would first compute 442=1,936.\n",
    "<li> By extracting the middle two digits, 93, and performing the remainder step, we get 93%11 = 5"
   ],
   "cell_type": "markdown",
   "metadata": {}
  },
  {
   "source": [
    "<img src=\"compare.png\" alt=\"Drawing\" style=\"width: 500px;\"/>"
   ],
   "cell_type": "markdown",
   "metadata": {}
  },
  {
   "source": [
    "## We can also create hash functions for character-based items such as strings. \n",
    "## The word “cat” can be thought of as a sequence of ordinal values."
   ],
   "cell_type": "markdown",
   "metadata": {}
  },
  {
   "cell_type": "code",
   "execution_count": 5,
   "metadata": {},
   "outputs": [
    {
     "output_type": "execute_result",
     "data": {
      "text/plain": [
       "99"
      ]
     },
     "metadata": {},
     "execution_count": 5
    }
   ],
   "source": [
    "ord('c')"
   ]
  },
  {
   "cell_type": "code",
   "execution_count": 6,
   "metadata": {},
   "outputs": [
    {
     "output_type": "execute_result",
     "data": {
      "text/plain": [
       "97"
      ]
     },
     "metadata": {},
     "execution_count": 6
    }
   ],
   "source": [
    "ord('a')"
   ]
  },
  {
   "cell_type": "code",
   "execution_count": 7,
   "metadata": {},
   "outputs": [
    {
     "output_type": "execute_result",
     "data": {
      "text/plain": [
       "116"
      ]
     },
     "metadata": {},
     "execution_count": 7
    }
   ],
   "source": [
    "ord('t')"
   ]
  }
 ]
}