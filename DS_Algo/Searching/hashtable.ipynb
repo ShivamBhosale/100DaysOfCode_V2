{
 "metadata": {
  "orig_nbformat": 4,
  "kernelspec": {
   "name": "tensorflow",
   "display_name": "Python 3.7 (tensorflow)",
   "language": "python"
  }
 },
 "nbformat": 4,
 "nbformat_minor": 2,
 "cells": [
  {
   "source": [
    "# Implementation of a Hash Table\n",
    "\n",
    "In this lecture we will be implementing our own Hash Table to complete our understanding of Hash Tables and Hash Functions! Make sure to review the video lecture before this to fully understand this implementation!\n",
    "\n",
    "Keep in mind that Python already has a built-in dictionary object that serves as a Hash Table, you would never actually need to implement your own hash table in Python."
   ],
   "cell_type": "markdown",
   "metadata": {}
  },
  {
   "source": [
    "# Map\n",
    "\n",
    "The idea of a dictionary used as a hash table to get and retrieve items using keys is often referred to as a mapping. In our implementation we will have the following methods:\n",
    "\n",
    " <li> HashTable() Create a new, empty map. It returns an empty map collection.\n",
    " <li> put(key,val) Add a new key-value pair to the map. If the key is already in the map then replace the old value with the new value.\n",
    "  <li> get(key) Given a key, return the value stored in the map or None otherwise.\n",
    "  <li> del Delete the key-value pair from the map using a statement of the form del map[key].\n",
    "  <li> len() Return the number of key-value pairs stored\n",
    "  <li> in the map in Return True for a statement of the form key in map, if the given key is in the map, False otherwise.\n"
   ],
   "cell_type": "markdown",
   "metadata": {}
  },
  {
   "cell_type": "code",
   "execution_count": 6,
   "metadata": {},
   "outputs": [],
   "source": [
    "class HashTable(object):\n",
    "\n",
    "    def __init__(self,size):\n",
    "        self.size = size\n",
    "        self.slots = [None]* self.size\n",
    "        self.data = [None] * self.size\n",
    "\n",
    "    def put(self,key,data):\n",
    "        hashvalue = self.hashfunction(key,len(self.slots))\n",
    "        if self.slots[hashvalue] == None:\n",
    "            self.slots[hashvalue] = key\n",
    "            self.data[hashvalue] = data\n",
    "\n",
    "        elif self.slots[hashvalue] == key:\n",
    "            self.data[hashvalue] == data\n",
    "        \n",
    "        else:\n",
    "            nextslot = self.reshash[hashvalue,len(self.slots)]\n",
    "\n",
    "            while self.slots[nextslots] != None and self.slots[nextslot] != key:\n",
    "                nextslot = self.rehash(nextslot,len(self.slots))\n",
    "            if self.slots[nextslot] == None:\n",
    "                self.slots[nextslots] = key\n",
    "                self.data[nextslot] = data\n",
    "\n",
    "            else:\n",
    "                self.data[nextslot] = data\n",
    "    \n",
    "    def hashfunction(self,key,size):\n",
    "        # The actual hash function\n",
    "        return key%size\n",
    "    \n",
    "    def reshash(self,oldhash,size):\n",
    "        return (oldhash+1)%size\n",
    "    \n",
    "\n",
    "    def get(self,key):\n",
    "        \n",
    "        # Getting items given a key\n",
    "        \n",
    "        # Set up variables for our search\n",
    "        startslot = self.hashfunction(key,len(self.slots))\n",
    "        data = None\n",
    "        stop = False\n",
    "        found = False\n",
    "        position = startslot\n",
    "        \n",
    "        # Until we discern that its not empty or found (and haven't stopped yet)\n",
    "        while self.slots[position] != None and not found and not stop:\n",
    "            \n",
    "            if self.slots[position] == key:\n",
    "                found = True\n",
    "                data = self.data[position]\n",
    "                \n",
    "            else:\n",
    "                position=self.rehash(position,len(self.slots))\n",
    "                if position == startslot:\n",
    "                    \n",
    "                    stop = True\n",
    "        return data\n",
    "\n",
    "    # Special Methods for use with Python indexing\n",
    "    def __getitem__(self,key):\n",
    "        return self.get(key)\n",
    "\n",
    "    def __setitem__(self,key,data):\n",
    "        self.put(key,data)\n",
    "    \n"
   ]
  },
  {
   "cell_type": "code",
   "execution_count": 7,
   "metadata": {},
   "outputs": [],
   "source": [
    "h = HashTable(5)"
   ]
  },
  {
   "cell_type": "code",
   "execution_count": 8,
   "metadata": {},
   "outputs": [],
   "source": [
    "h[1] = 'one'"
   ]
  },
  {
   "cell_type": "code",
   "execution_count": 9,
   "metadata": {},
   "outputs": [],
   "source": [
    "h[2] = 'two'"
   ]
  },
  {
   "cell_type": "code",
   "execution_count": 10,
   "metadata": {},
   "outputs": [],
   "source": [
    "h[3] = 'three'"
   ]
  },
  {
   "cell_type": "code",
   "execution_count": 11,
   "metadata": {},
   "outputs": [
    {
     "output_type": "execute_result",
     "data": {
      "text/plain": [
       "'one'"
      ]
     },
     "metadata": {},
     "execution_count": 11
    }
   ],
   "source": [
    "h[1]"
   ]
  },
  {
   "cell_type": "code",
   "execution_count": 12,
   "metadata": {},
   "outputs": [
    {
     "output_type": "stream",
     "name": "stdout",
     "text": [
      "None\n"
     ]
    }
   ],
   "source": [
    "print(h[5])"
   ]
  },
  {
   "cell_type": "code",
   "execution_count": 13,
   "metadata": {},
   "outputs": [],
   "source": [
    "h[2] = 'newtwoo'"
   ]
  },
  {
   "cell_type": "code",
   "execution_count": 15,
   "metadata": {},
   "outputs": [
    {
     "output_type": "execute_result",
     "data": {
      "text/plain": [
       "'two'"
      ]
     },
     "metadata": {},
     "execution_count": 15
    }
   ],
   "source": [
    "h[2]"
   ]
  },
  {
   "cell_type": "code",
   "execution_count": null,
   "metadata": {},
   "outputs": [],
   "source": []
  }
 ]
}