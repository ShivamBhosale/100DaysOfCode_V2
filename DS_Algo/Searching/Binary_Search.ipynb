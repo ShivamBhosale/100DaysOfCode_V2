{
 "metadata": {
  "orig_nbformat": 4,
  "kernelspec": {
   "name": "tensorflow",
   "display_name": "Python 3.7 (tensorflow)",
   "language": "python"
  }
 },
 "nbformat": 4,
 "nbformat_minor": 2,
 "cells": [
  {
   "source": [
    "# Binary Search\n",
    "<hr>"
   ],
   "cell_type": "markdown",
   "metadata": {}
  },
  {
   "cell_type": "code",
   "execution_count": 19,
   "metadata": {},
   "outputs": [],
   "source": [
    "def Binary_s(arr,ele):\n",
    "\n",
    "    first = 0\n",
    "    last = len(arr)-1 # indexing statrs at 0\n",
    "    found = False\n",
    "\n",
    "    while first <= last and not found:\n",
    "\n",
    "        mid = int((first+last)/2)\n",
    "        if arr[mid] == ele:\n",
    "            found = True\n",
    "        else:\n",
    "            if ele < arr[mid]:\n",
    "                last = mid - 1\n",
    "            else: \n",
    "                first = mid + 1\n",
    "    return found      "
   ]
  },
  {
   "cell_type": "code",
   "execution_count": 36,
   "metadata": {},
   "outputs": [],
   "source": [
    "arr = list(map(int,input(\"Enter the elements of the array: \").strip().split()))\n",
    "arr.sort()\n",
    "a=arr\n",
    "ele = int(input(\"Enter the number to be searched in the array: \"))"
   ]
  },
  {
   "cell_type": "code",
   "execution_count": 37,
   "metadata": {},
   "outputs": [
    {
     "output_type": "stream",
     "name": "stdout",
     "text": [
      "Array:  [1, 2, 3, 4, 5, 6, 7, 10]\nNumber to be searched:  7\n"
     ]
    }
   ],
   "source": [
    "print(\"Array: \",arr)\n",
    "print(\"Number to be searched: \",ele)\n"
   ]
  },
  {
   "cell_type": "code",
   "execution_count": 38,
   "metadata": {},
   "outputs": [
    {
     "output_type": "execute_result",
     "data": {
      "text/plain": [
       "True"
      ]
     },
     "metadata": {},
     "execution_count": 38
    }
   ],
   "source": [
    "Binary_s(a,ele)"
   ]
  },
  {
   "cell_type": "code",
   "execution_count": 39,
   "metadata": {},
   "outputs": [
    {
     "output_type": "stream",
     "name": "stdout",
     "text": [
      "[1, 2, 3, 4, 5, 6, 7, 10]\n"
     ]
    }
   ],
   "source": [
    "print(a)"
   ]
  },
  {
   "source": [
    "<hr>\n",
    "\n",
    "# Recursive Version of Binary Search\n",
    "<hr>"
   ],
   "cell_type": "markdown",
   "metadata": {}
  },
  {
   "cell_type": "code",
   "execution_count": 45,
   "metadata": {},
   "outputs": [],
   "source": [
    "def rec_binary_s(arr,ele):\n",
    "    if len(arr) == 0:\n",
    "        return False\n",
    "    \n",
    "    else:\n",
    "        mid = int(len(arr)/2)\n",
    "        if arr[mid] == ele:\n",
    "            return True\n",
    "        else:\n",
    "            if ele < arr[mid]:\n",
    "                return rec_binary_s(arr[:mid],ele)\n",
    "            else:\n",
    "                return rec_binary_s(arr[mid+1:],ele)\n"
   ]
  },
  {
   "cell_type": "code",
   "execution_count": 46,
   "metadata": {},
   "outputs": [
    {
     "output_type": "execute_result",
     "data": {
      "text/plain": [
       "True"
      ]
     },
     "metadata": {},
     "execution_count": 46
    }
   ],
   "source": [
    "rec_binary_s([1,2,3,4,5,6],6)"
   ]
  }
 ]
}