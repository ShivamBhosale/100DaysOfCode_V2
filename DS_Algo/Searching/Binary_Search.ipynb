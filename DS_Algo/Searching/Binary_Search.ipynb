{
 "metadata": {
  "orig_nbformat": 4,
  "kernelspec": {
   "name": "tensorflow",
   "display_name": "Python 3.7 (tensorflow)",
   "language": "python"
  }
 },
 "nbformat": 4,
 "nbformat_minor": 2,
 "cells": [
  {
   "source": [
    "# Binary Search\n",
    "<hr>"
   ],
   "cell_type": "markdown",
   "metadata": {}
  },
  {
   "cell_type": "code",
   "execution_count": 9,
   "metadata": {},
   "outputs": [],
   "source": [
    "def Binary_s(arr,ele):\n",
    "\n",
    "    first = 0\n",
    "    last = len(arr)-1 # indexing statrs at 0\n",
    "    found = False\n",
    "\n",
    "    while first <= last and not found:\n",
    "\n",
    "        mid = int((first+last)/2)\n",
    "        if arr[mid] == ele:\n",
    "            found = True\n",
    "        else:\n",
    "            if ele < arr[mid]:\n",
    "                last = mid - 1\n",
    "            else: \n",
    "                first = mid + 1\n",
    "    return found      "
   ]
  },
  {
   "cell_type": "code",
   "execution_count": 10,
   "metadata": {},
   "outputs": [],
   "source": [
    "arr = [1,2,3,4,5,6,7,8]"
   ]
  },
  {
   "cell_type": "code",
   "execution_count": 12,
   "metadata": {},
   "outputs": [
    {
     "output_type": "execute_result",
     "data": {
      "text/plain": [
       "False"
      ]
     },
     "metadata": {},
     "execution_count": 12
    }
   ],
   "source": [
    "Binary_s(arr,10)"
   ]
  },
  {
   "cell_type": "code",
   "execution_count": null,
   "metadata": {},
   "outputs": [],
   "source": []
  }
 ]
}