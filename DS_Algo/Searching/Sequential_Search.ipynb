{
 "metadata": {
  "orig_nbformat": 4,
  "kernelspec": {
   "name": "tensorflow",
   "display_name": "Python 3.7 (tensorflow)",
   "language": "python"
  }
 },
 "nbformat": 4,
 "nbformat_minor": 2,
 "cells": [
  {
   "source": [
    "# Sequential Search\n",
    "<hr>"
   ],
   "cell_type": "markdown",
   "metadata": {}
  },
  {
   "source": [
    "## For an unordered list (item is present)\n",
    "<li> Best case - 1\n",
    "<li> Worst case - n\n",
    "<li> Average case - (n/2)\n",
    "\n",
    "## For an unordered list (item is absent)\n",
    "<li> Best case - n\n",
    "<li> Worst case - n\n",
    "<li> Average case - n"
   ],
   "cell_type": "markdown",
   "metadata": {}
  },
  {
   "source": [
    "## For an ordered List (item is present)\n",
    "<li> Best case - 1\n",
    "<li> Worst case - n\n",
    "<li> Average case - (n/2)\n",
    "\n",
    "## For an ordered List (item is absent)\n",
    "<li> Best case - 1\n",
    "<li> Worst case - n\n",
    "<li> Average case - (n/2)"
   ],
   "cell_type": "markdown",
   "metadata": {}
  },
  {
   "cell_type": "code",
   "execution_count": 12,
   "metadata": {},
   "outputs": [],
   "source": [
    "def seq_s(arr,ele):\n",
    "    pos = 0\n",
    "    flag = 0\n",
    "    for i in range(len(arr)):\n",
    "        if arr[i] == ele:\n",
    "            flag = 1\n",
    "            pos = i\n",
    "            break\n",
    "        else:\n",
    "            flag = 0\n",
    "    if flag == 1:\n",
    "        return \"Element found at array index \",pos\n",
    "    else:\n",
    "        return \"Element is not present in the array\"\n"
   ]
  },
  {
   "cell_type": "code",
   "execution_count": 14,
   "metadata": {},
   "outputs": [
    {
     "output_type": "execute_result",
     "data": {
      "text/plain": [
       "'Element is not present in the array'"
      ]
     },
     "metadata": {},
     "execution_count": 14
    }
   ],
   "source": [
    "seq_s([1,2,3,4,5,6,7,8],9)"
   ]
  },
  {
   "cell_type": "code",
   "execution_count": 15,
   "metadata": {},
   "outputs": [
    {
     "output_type": "execute_result",
     "data": {
      "text/plain": [
       "('Element found at array index ', 7)"
      ]
     },
     "metadata": {},
     "execution_count": 15
    }
   ],
   "source": [
    "seq_s([1,2,3,4,5,6,7,8],8)"
   ]
  },
  {
   "cell_type": "code",
   "execution_count": 16,
   "metadata": {},
   "outputs": [],
   "source": [
    "def ord_seq_s(arr,ele):\n",
    "    pos = 0\n",
    "    flag = 0\n",
    "    \n",
    "    for i in range(len(arr)):\n",
    "        if arr[i] == ele:\n",
    "            flag = 1\n",
    "            pos = i\n",
    "            break\n",
    "        else:\n",
    "            if arr[i] > ele:\n",
    "                flag = 1\n",
    "            else:\n",
    "                flag = 0\n",
    "    if flag == 1:\n",
    "        return \"Element found at array index \",pos\n",
    "    else:\n",
    "        return \"Element is not present in the array\"\n",
    "\n",
    "            \n",
    "    \n"
   ]
  },
  {
   "cell_type": "code",
   "execution_count": 17,
   "metadata": {},
   "outputs": [
    {
     "output_type": "execute_result",
     "data": {
      "text/plain": [
       "('Element found at array index ', 7)"
      ]
     },
     "metadata": {},
     "execution_count": 17
    }
   ],
   "source": [
    "ord_seq_s([1,2,3,4,5,6,7,8],8)"
   ]
  }
 ]
}