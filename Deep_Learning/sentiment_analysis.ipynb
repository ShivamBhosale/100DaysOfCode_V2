{
 "cells": [
  {
   "cell_type": "markdown",
   "source": [
    "# Sentiment Analysis using a TextBlob"
   ],
   "metadata": {}
  },
  {
   "cell_type": "code",
   "execution_count": 1,
   "source": [
    "from textblob import TextBlob\n",
    "from newspaper import Article"
   ],
   "outputs": [],
   "metadata": {}
  },
  {
   "cell_type": "code",
   "execution_count": 35,
   "source": [
    "url ='https://www.theatlantic.com/science/archive/2021/08/robert-malone-vaccine-inventor-vaccine-skeptic/619734/?utm_source=pocket-newtab-intl-en'\n",
    "article=Article(url)\n",
    "\n",
    "article.download()\n",
    "article.parse()\n",
    "article.nlp()\n",
    "\n",
    "text = article.summary\n",
    "print(text)\n",
    "\n",
    "\n",
    "blob = TextBlob(text)\n",
    "sentiment = blob.sentiment.polarity \n",
    "\"\"\" -1 To 1 (Bad --> Good) \"\"\"\n",
    "print(sentiment)\n",
    "\n",
    "if sentiment == 0:\n",
    "    print(\"The content of the article looks neutral\")\n",
    "elif (0<sentiment < 0.5 ):\n",
    "    print(\"The Article is some-what positive\")\n",
    "elif sentiment >= 0.5:\n",
    "    print(\"The Article is Postive\")\n",
    "elif sentiment <= -0.5:\n",
    "    print(\"The Article is Negative\")\n",
    "elif (-0.5 < sentiment < 0):\n",
    "    print(\"The Article is some-what negative \")"
   ],
   "outputs": [
    {
     "output_type": "stream",
     "name": "stdout",
     "text": [
      "“You’re hearing it from an individual who invented the mRNA [vaccine] and has dedicated his life to vaccines.\n",
      "Read: How mRNA technology could change the worldWherever he appears, Malone is billed as the inventor of mRNA vaccines.\n",
      "Why is the self-described inventor of the mRNA vaccines working so hard to undermine them?\n",
      "(Karikó is a senior vice president at BioNTech, which partnered with Pfizer to create the first COVID-19 vaccine to be authorized for use last year.)\n",
      "Read: The mRNA vaccines are extraordinary, but Novavax is even betterHis concerns are personal, too.\n",
      "0.048611111111111105\n",
      "The Article is some-what positive\n"
     ]
    }
   ],
   "metadata": {}
  }
 ],
 "metadata": {
  "orig_nbformat": 4,
  "language_info": {
   "name": "python",
   "version": "3.7.9",
   "mimetype": "text/x-python",
   "codemirror_mode": {
    "name": "ipython",
    "version": 3
   },
   "pygments_lexer": "ipython3",
   "nbconvert_exporter": "python",
   "file_extension": ".py"
  },
  "kernelspec": {
   "name": "python3",
   "display_name": "Python 3.7.9 64-bit ('tensorflow': conda)"
  },
  "interpreter": {
   "hash": "fab3a28afa09fe27dd30cc08dc0e8eb493c18e41bf05aa4d5a2df5d441c3d05e"
  }
 },
 "nbformat": 4,
 "nbformat_minor": 2
}