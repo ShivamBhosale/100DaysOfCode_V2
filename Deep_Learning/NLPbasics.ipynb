{
 "cells": [
  {
   "cell_type": "markdown",
   "source": [
    "# NLP Tokenization"
   ],
   "metadata": {}
  },
  {
   "cell_type": "code",
   "execution_count": 1,
   "source": [
    "import tensorflow as tf\n",
    "from tensorflow import keras\n",
    "from tensorflow.keras.preprocessing.text import Tokenizer"
   ],
   "outputs": [],
   "metadata": {}
  },
  {
   "cell_type": "code",
   "execution_count": 2,
   "source": [
    "sen=[\"Stock trading is fun!!\",'I want to buy an Audi',\"I want to get a dog\",\"I want to get a cat\"]"
   ],
   "outputs": [],
   "metadata": {}
  },
  {
   "cell_type": "code",
   "execution_count": 5,
   "source": [
    "tokenizer = Tokenizer(num_words=100,oov_token='<Not Present>')\n",
    "tokenizer.fit_on_texts(sen)\n",
    "word_index = tokenizer.word_index"
   ],
   "outputs": [],
   "metadata": {}
  },
  {
   "cell_type": "code",
   "execution_count": 6,
   "source": [
    "print(word_index)"
   ],
   "outputs": [
    {
     "output_type": "stream",
     "name": "stdout",
     "text": [
      "{'<Not Present>': 1, 'i': 2, 'want': 3, 'to': 4, 'get': 5, 'a': 6, 'stock': 7, 'trading': 8, 'is': 9, 'fun': 10, 'buy': 11, 'an': 12, 'audi': 13, 'dog': 14, 'cat': 15}\n"
     ]
    }
   ],
   "metadata": {}
  },
  {
   "cell_type": "code",
   "execution_count": 7,
   "source": [
    "sequences=tokenizer.texts_to_sequences(sen)"
   ],
   "outputs": [],
   "metadata": {}
  },
  {
   "cell_type": "code",
   "execution_count": 8,
   "source": [
    "print(sequences)"
   ],
   "outputs": [
    {
     "output_type": "stream",
     "name": "stdout",
     "text": [
      "[[7, 8, 9, 10], [2, 3, 4, 11, 12, 13], [2, 3, 4, 5, 6, 14], [2, 3, 4, 5, 6, 15]]\n"
     ]
    }
   ],
   "metadata": {}
  },
  {
   "cell_type": "code",
   "execution_count": 9,
   "source": [
    "test_data=['i really love my dog']"
   ],
   "outputs": [],
   "metadata": {}
  },
  {
   "cell_type": "code",
   "execution_count": 10,
   "source": [
    "test_seq=tokenizer.texts_to_sequences(test_data)"
   ],
   "outputs": [],
   "metadata": {}
  },
  {
   "cell_type": "code",
   "execution_count": 11,
   "source": [
    "print(test_seq)"
   ],
   "outputs": [
    {
     "output_type": "stream",
     "name": "stdout",
     "text": [
      "[[2, 1, 1, 1, 14]]\n"
     ]
    }
   ],
   "metadata": {}
  },
  {
   "cell_type": "code",
   "execution_count": 13,
   "source": [
    "from tensorflow.keras.preprocessing.sequence import pad_sequences"
   ],
   "outputs": [],
   "metadata": {}
  },
  {
   "cell_type": "code",
   "execution_count": 14,
   "source": [
    "padded=pad_sequences(sequences)\n",
    "print(padded)"
   ],
   "outputs": [
    {
     "output_type": "stream",
     "name": "stdout",
     "text": [
      "[[ 0  0  7  8  9 10]\n",
      " [ 2  3  4 11 12 13]\n",
      " [ 2  3  4  5  6 14]\n",
      " [ 2  3  4  5  6 15]]\n"
     ]
    }
   ],
   "metadata": {}
  },
  {
   "cell_type": "code",
   "execution_count": 15,
   "source": [
    "padded2=pad_sequences(sequences,maxlen=8,padding='post')"
   ],
   "outputs": [],
   "metadata": {}
  },
  {
   "cell_type": "code",
   "execution_count": 16,
   "source": [
    "print(padded2)"
   ],
   "outputs": [
    {
     "output_type": "stream",
     "name": "stdout",
     "text": [
      "[[ 7  8  9 10  0  0  0  0]\n",
      " [ 2  3  4 11 12 13  0  0]\n",
      " [ 2  3  4  5  6 14  0  0]\n",
      " [ 2  3  4  5  6 15  0  0]]\n"
     ]
    }
   ],
   "metadata": {}
  },
  {
   "cell_type": "code",
   "execution_count": 17,
   "source": [
    "padded3=pad_sequences(sequences,maxlen=8,padding='pre')"
   ],
   "outputs": [],
   "metadata": {}
  },
  {
   "cell_type": "code",
   "execution_count": 18,
   "source": [
    "print(padded3)"
   ],
   "outputs": [
    {
     "output_type": "stream",
     "name": "stdout",
     "text": [
      "[[ 0  0  0  0  7  8  9 10]\n",
      " [ 0  0  2  3  4 11 12 13]\n",
      " [ 0  0  2  3  4  5  6 14]\n",
      " [ 0  0  2  3  4  5  6 15]]\n"
     ]
    }
   ],
   "metadata": {}
  },
  {
   "cell_type": "code",
   "execution_count": 19,
   "source": [
    "padded4=pad_sequences(sequences,maxlen=8,padding='post',truncating='pre')\n",
    "print(padded4)"
   ],
   "outputs": [
    {
     "output_type": "stream",
     "name": "stdout",
     "text": [
      "[[ 7  8  9 10  0  0  0  0]\n",
      " [ 2  3  4 11 12 13  0  0]\n",
      " [ 2  3  4  5  6 14  0  0]\n",
      " [ 2  3  4  5  6 15  0  0]]\n"
     ]
    }
   ],
   "metadata": {}
  }
 ],
 "metadata": {
  "orig_nbformat": 4,
  "language_info": {
   "name": "python",
   "version": "3.7.9",
   "mimetype": "text/x-python",
   "codemirror_mode": {
    "name": "ipython",
    "version": 3
   },
   "pygments_lexer": "ipython3",
   "nbconvert_exporter": "python",
   "file_extension": ".py"
  },
  "kernelspec": {
   "name": "python3",
   "display_name": "Python 3.7.9 64-bit ('tensorflow': conda)"
  },
  "interpreter": {
   "hash": "fab3a28afa09fe27dd30cc08dc0e8eb493c18e41bf05aa4d5a2df5d441c3d05e"
  }
 },
 "nbformat": 4,
 "nbformat_minor": 2
}